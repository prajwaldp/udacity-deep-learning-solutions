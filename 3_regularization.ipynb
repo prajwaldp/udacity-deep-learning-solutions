{
 "cells": [
  {
   "cell_type": "markdown",
   "metadata": {
    "colab_type": "text",
    "id": "kR-4eNdK6lYS"
   },
   "source": [
    "Deep Learning\n",
    "=============\n",
    "\n",
    "Assignment 3\n",
    "------------\n",
    "\n",
    "Previously in `2_fullyconnected.ipynb`, you trained a logistic regression and a neural network model.\n",
    "\n",
    "The goal of this assignment is to explore regularization techniques."
   ]
  },
  {
   "cell_type": "code",
   "execution_count": 1,
   "metadata": {
    "cellView": "both",
    "colab": {
     "autoexec": {
      "startup": false,
      "wait_interval": 0
     }
    },
    "colab_type": "code",
    "id": "JLpLa8Jt7Vu4"
   },
   "outputs": [],
   "source": [
    "# These are all the modules we'll be using later. Make sure you can import them\n",
    "# before proceeding further.\n",
    "from __future__ import print_function\n",
    "import numpy as np\n",
    "import tensorflow as tf\n",
    "from six.moves import cPickle as pickle"
   ]
  },
  {
   "cell_type": "markdown",
   "metadata": {
    "colab_type": "text",
    "id": "1HrCK6e17WzV"
   },
   "source": [
    "First reload the data we generated in `1_notmnist.ipynb`."
   ]
  },
  {
   "cell_type": "code",
   "execution_count": 2,
   "metadata": {
    "cellView": "both",
    "colab": {
     "autoexec": {
      "startup": false,
      "wait_interval": 0
     },
     "output_extras": [
      {
       "item_id": 1
      }
     ]
    },
    "colab_type": "code",
    "executionInfo": {
     "elapsed": 11777,
     "status": "ok",
     "timestamp": 1449849322348,
     "user": {
      "color": "",
      "displayName": "",
      "isAnonymous": false,
      "isMe": true,
      "permissionId": "",
      "photoUrl": "",
      "sessionId": "0",
      "userId": ""
     },
     "user_tz": 480
    },
    "id": "y3-cj1bpmuxc",
    "outputId": "e03576f1-ebbe-4838-c388-f1777bcc9873"
   },
   "outputs": [
    {
     "name": "stdout",
     "output_type": "stream",
     "text": [
      "Training set (200000, 28, 28) (200000,)\n",
      "Validation set (10000, 28, 28) (10000,)\n",
      "Test set (10000, 28, 28) (10000,)\n"
     ]
    }
   ],
   "source": [
    "pickle_file = 'notMNIST.pickle'\n",
    "\n",
    "with open(pickle_file, 'rb') as f:\n",
    "  save = pickle.load(f)\n",
    "  train_dataset = save['train_dataset']\n",
    "  train_labels = save['train_labels']\n",
    "  valid_dataset = save['valid_dataset']\n",
    "  valid_labels = save['valid_labels']\n",
    "  test_dataset = save['test_dataset']\n",
    "  test_labels = save['test_labels']\n",
    "  del save  # hint to help gc free up memory\n",
    "  print('Training set', train_dataset.shape, train_labels.shape)\n",
    "  print('Validation set', valid_dataset.shape, valid_labels.shape)\n",
    "  print('Test set', test_dataset.shape, test_labels.shape)"
   ]
  },
  {
   "cell_type": "markdown",
   "metadata": {
    "colab_type": "text",
    "id": "L7aHrm6nGDMB"
   },
   "source": [
    "Reformat into a shape that's more adapted to the models we're going to train:\n",
    "- data as a flat matrix,\n",
    "- labels as float 1-hot encodings."
   ]
  },
  {
   "cell_type": "code",
   "execution_count": 3,
   "metadata": {
    "cellView": "both",
    "colab": {
     "autoexec": {
      "startup": false,
      "wait_interval": 0
     },
     "output_extras": [
      {
       "item_id": 1
      }
     ]
    },
    "colab_type": "code",
    "executionInfo": {
     "elapsed": 11728,
     "status": "ok",
     "timestamp": 1449849322356,
     "user": {
      "color": "",
      "displayName": "",
      "isAnonymous": false,
      "isMe": true,
      "permissionId": "",
      "photoUrl": "",
      "sessionId": "0",
      "userId": ""
     },
     "user_tz": 480
    },
    "id": "IRSyYiIIGIzS",
    "outputId": "3f8996ee-3574-4f44-c953-5c8a04636582"
   },
   "outputs": [
    {
     "name": "stdout",
     "output_type": "stream",
     "text": [
      "Training set (200000, 784) (200000, 10)\n",
      "Validation set (10000, 784) (10000, 10)\n",
      "Test set (10000, 784) (10000, 10)\n"
     ]
    }
   ],
   "source": [
    "image_size = 28\n",
    "num_labels = 10\n",
    "\n",
    "def reformat(dataset, labels):\n",
    "  dataset = dataset.reshape((-1, image_size * image_size)).astype(np.float32)\n",
    "  # Map 1 to [0.0, 1.0, 0.0 ...], 2 to [0.0, 0.0, 1.0 ...]\n",
    "  labels = (np.arange(num_labels) == labels[:,None]).astype(np.float32)\n",
    "  return dataset, labels\n",
    "train_dataset, train_labels = reformat(train_dataset, train_labels)\n",
    "valid_dataset, valid_labels = reformat(valid_dataset, valid_labels)\n",
    "test_dataset, test_labels = reformat(test_dataset, test_labels)\n",
    "print('Training set', train_dataset.shape, train_labels.shape)\n",
    "print('Validation set', valid_dataset.shape, valid_labels.shape)\n",
    "print('Test set', test_dataset.shape, test_labels.shape)"
   ]
  },
  {
   "cell_type": "code",
   "execution_count": 4,
   "metadata": {
    "cellView": "both",
    "colab": {
     "autoexec": {
      "startup": false,
      "wait_interval": 0
     }
    },
    "colab_type": "code",
    "id": "RajPLaL_ZW6w"
   },
   "outputs": [],
   "source": [
    "def accuracy(predictions, labels):\n",
    "  return (100.0 * np.sum(np.argmax(predictions, 1) == np.argmax(labels, 1))\n",
    "          / predictions.shape[0])"
   ]
  },
  {
   "cell_type": "markdown",
   "metadata": {
    "colab_type": "text",
    "id": "sgLbUAQ1CW-1"
   },
   "source": [
    "---\n",
    "Problem 1\n",
    "---------\n",
    "\n",
    "Introduce and tune L2 regularization for both logistic and neural network models. Remember that L2 amounts to adding a penalty on the norm of the weights to the loss. In TensorFlow, you can compute the L2 loss for a tensor `t` using `nn.l2_loss(t)`. The right amount of regularization should improve your validation / test accuracy.\n",
    "\n",
    "---"
   ]
  },
  {
   "cell_type": "markdown",
   "metadata": {},
   "source": [
    "## Logistic Model"
   ]
  },
  {
   "cell_type": "code",
   "execution_count": 5,
   "metadata": {},
   "outputs": [
    {
     "name": "stdout",
     "output_type": "stream",
     "text": [
      "Initialized\n",
      "Step 0\n",
      "Training Loss: 22.4\n",
      "Training Accuracy: 7.0%\n",
      "Validation Accuracy: 9.4%\n",
      "\n",
      "Step 500\n",
      "Training Loss: 2.7\n",
      "Training Accuracy: 76.6%\n",
      "Validation Accuracy: 76.1%\n",
      "\n",
      "Step 1000\n",
      "Training Loss: 1.6\n",
      "Training Accuracy: 80.5%\n",
      "Validation Accuracy: 78.2%\n",
      "\n",
      "Step 1500\n",
      "Training Loss: 1.1\n",
      "Training Accuracy: 82.0%\n",
      "Validation Accuracy: 79.1%\n",
      "\n",
      "Step 2000\n",
      "Training Loss: 0.9\n",
      "Training Accuracy: 83.6%\n",
      "Validation Accuracy: 81.0%\n",
      "\n",
      "Step 2500\n",
      "Training Loss: 0.9\n",
      "Training Accuracy: 79.7%\n",
      "Validation Accuracy: 81.5%\n",
      "\n",
      "Step 3000\n",
      "Training Loss: 0.9\n",
      "Training Accuracy: 78.9%\n",
      "Validation Accuracy: 82.1%\n",
      "\n",
      "Test Accuracy: 89.1%\n"
     ]
    }
   ],
   "source": [
    "batch_size = 128\n",
    "\n",
    "graph = tf.Graph()\n",
    "\n",
    "with graph.as_default():\n",
    "\n",
    "    tf_train_dataset = tf.placeholder(tf.float32,\n",
    "                                      shape=(batch_size, image_size * image_size))\n",
    "    tf_train_labels = tf.placeholder(tf.float32, \n",
    "                                     shape=(batch_size, num_labels))\n",
    "\n",
    "    tf_valid_dataset = tf.constant(valid_dataset)\n",
    "    tf_test_dataset = tf.constant(test_dataset)\n",
    "    \n",
    "    weights = tf.Variable(tf.truncated_normal([image_size * image_size, num_labels]))\n",
    "    biases = tf.Variable(tf.zeros([num_labels]))\n",
    "    \n",
    "    logits = tf.matmul(tf_train_dataset, weights) + biases\n",
    "    loss = tf.reduce_mean(tf.nn.softmax_cross_entropy_with_logits(labels=tf_train_labels,\n",
    "                                                                 logits=logits) + \\\n",
    "                         0.001 * tf.nn.l2_loss(weights))\n",
    "    \n",
    "    optimizer = tf.train.GradientDescentOptimizer(0.5).minimize(loss) \n",
    "    \n",
    "    train_predictions = tf.nn.softmax(logits)\n",
    "    valid_predictions = tf.nn.softmax(tf.matmul(tf_valid_dataset, weights) + biases)\n",
    "    test_predictions = tf.nn.softmax(tf.matmul(tf_test_dataset, weights) + biases)\n",
    "    \n",
    "    \n",
    "with tf.Session(graph=graph) as sess:\n",
    "    \n",
    "    tf.global_variables_initializer().run()\n",
    "    \n",
    "    print('Initialized')\n",
    "    \n",
    "    for i in range(3001):\n",
    "        \n",
    "        offset = (i * batch_size) % (train_labels.shape[0] - batch_size)\n",
    "        \n",
    "        X = train_dataset[offset:(offset + batch_size), :]\n",
    "        y = train_labels[offset:(offset + batch_size), :]\n",
    "        \n",
    "        feed_dict = {\n",
    "            tf_train_dataset: X,\n",
    "            tf_train_labels: y\n",
    "        }\n",
    "        \n",
    "        _, l, predictions = sess.run([optimizer, loss, train_predictions],\n",
    "                                    feed_dict=feed_dict)\n",
    "        \n",
    "        if i % 500 == 0:\n",
    "            \n",
    "            print('Step {:d}'.format(i))\n",
    "            print('Training Loss: {:0.1f}'.format(l))\n",
    "            print('Training Accuracy: {:0.1f}%'.format(accuracy(predictions, y)))\n",
    "            print('Validation Accuracy: {:0.1f}%'.format(accuracy(valid_predictions.eval(),\n",
    "                                                                valid_labels)))\n",
    "            print('')\n",
    "            \n",
    "    \n",
    "    print('Test Accuracy: {:0.1f}%'.format(accuracy(test_predictions.eval(),\n",
    "                                                 test_labels)))"
   ]
  },
  {
   "cell_type": "markdown",
   "metadata": {},
   "source": [
    "## Neural network with 1 hidden layer"
   ]
  },
  {
   "cell_type": "code",
   "execution_count": 1,
   "metadata": {},
   "outputs": [
    {
     "ename": "NameError",
     "evalue": "name 'tf' is not defined",
     "output_type": "error",
     "traceback": [
      "\u001b[0;31m---------------------------------------------------------------------------\u001b[0m",
      "\u001b[0;31mNameError\u001b[0m                                 Traceback (most recent call last)",
      "\u001b[0;32m<ipython-input-1-2e3ebbc46d8b>\u001b[0m in \u001b[0;36m<module>\u001b[0;34m()\u001b[0m\n\u001b[1;32m      5\u001b[0m \u001b[0;34m\u001b[0m\u001b[0m\n\u001b[1;32m      6\u001b[0m \u001b[0;34m\u001b[0m\u001b[0m\n\u001b[0;32m----> 7\u001b[0;31m \u001b[0mgraph\u001b[0m \u001b[0;34m=\u001b[0m \u001b[0mtf\u001b[0m\u001b[0;34m.\u001b[0m\u001b[0mGraph\u001b[0m\u001b[0;34m(\u001b[0m\u001b[0;34m)\u001b[0m\u001b[0;34m\u001b[0m\u001b[0m\n\u001b[0m\u001b[1;32m      8\u001b[0m \u001b[0;34m\u001b[0m\u001b[0m\n\u001b[1;32m      9\u001b[0m \u001b[0;32mwith\u001b[0m \u001b[0mgraph\u001b[0m\u001b[0;34m.\u001b[0m\u001b[0mas_default\u001b[0m\u001b[0;34m(\u001b[0m\u001b[0;34m)\u001b[0m\u001b[0;34m:\u001b[0m\u001b[0;34m\u001b[0m\u001b[0m\n",
      "\u001b[0;31mNameError\u001b[0m: name 'tf' is not defined"
     ]
    }
   ],
   "source": [
    "batch_size = 128\n",
    "\n",
    "# number of neurons in the hidden layer\n",
    "num_hidden_layer = 1000\n",
    "\n",
    "\n",
    "graph = tf.Graph()\n",
    "\n",
    "with graph.as_default():\n",
    "\n",
    "    tf_train_dataset = tf.placeholder(tf.float32,\n",
    "                                      shape=(batch_size, image_size * image_size))\n",
    "    tf_train_labels = tf.placeholder(tf.float32, \n",
    "                                     shape=(batch_size, num_labels))\n",
    "\n",
    "    tf_valid_dataset = tf.constant(valid_dataset)\n",
    "    tf_test_dataset = tf.constant(test_dataset)\n",
    "    \n",
    "    weights1 = tf.Variable(tf.truncated_normal([image_size * image_size, num_hidden_layer]))\n",
    "    biases1 = tf.Variable(tf.zeros([num_hidden_layer]))\n",
    "    \n",
    "    weights2 = tf.Variable(tf.truncated_normal([num_hidden_layer, num_labels]))\n",
    "    biases2 = tf.Variable(tf.zeros([num_labels]))\n",
    "    \n",
    "    logits1 = tf.nn.relu(tf.matmul(tf_train_dataset, weights1) + biases1)\n",
    "    logits2 = tf.matmul(logits1, weights2) + biases2\n",
    "\n",
    "    loss = tf.reduce_mean(tf.nn.softmax_cross_entropy_with_logits(labels=tf_train_labels,\n",
    "                                                                 logits=logits2) + \\\n",
    "                         0.001 * tf.nn.l2_loss(weights1) + 0.001 * tf.nn.l2_loss(weights2))\n",
    "    \n",
    "    optimizer = tf.train.GradientDescentOptimizer(0.5).minimize(loss) \n",
    "    \n",
    "    train_predictions = tf.nn.softmax(logits2)\n",
    "    \n",
    "    # valid_predictions\n",
    "    logits1 = tf.nn.relu(tf.matmul(tf_valid_dataset, weights1) + biases1)\n",
    "    logits2 = tf.matmul(logits1, weights2) + biases2\n",
    "    valid_predictions = tf.nn.softmax(logits2)\n",
    "    \n",
    "    # test_predictions\n",
    "    logits1 = tf.nn.relu(tf.matmul(tf_test_dataset, weights1) + biases1)\n",
    "    logits2 = tf.matmul(logits1, weights2) + biases2\n",
    "    test_predictions = tf.nn.softmax(logits2)\n",
    "    \n",
    "    \n",
    "with tf.Session(graph=graph) as sess:\n",
    "    \n",
    "    tf.global_variables_initializer().run()\n",
    "    \n",
    "    print('Initialized')\n",
    "    \n",
    "    for i in range(3001):\n",
    "        \n",
    "        offset = (i * batch_size) % (train_labels.shape[0] - batch_size)\n",
    "        \n",
    "        X = train_dataset[offset:(offset + batch_size), :]\n",
    "        y = train_labels[offset:(offset + batch_size), :]\n",
    "        \n",
    "        feed_dict = {\n",
    "            tf_train_dataset: X,\n",
    "            tf_train_labels: y\n",
    "        }\n",
    "        \n",
    "        _, l, predictions = sess.run([optimizer, loss, train_predictions],\n",
    "                                    feed_dict=feed_dict)\n",
    "        \n",
    "        if i % 500 == 0:\n",
    "            \n",
    "            print('Step {:d}'.format(i))\n",
    "            print('Training Loss: {:0.1f}'.format(l))\n",
    "            print('Training Accuracy: {:0.1f}%'.format(accuracy(predictions, y)))\n",
    "            print('Validation Accuracy: {:0.1f}%'.format(accuracy(valid_predictions.eval(),\n",
    "                                                                valid_labels)))\n",
    "            print('')\n",
    "            \n",
    "    \n",
    "    print('Test Accuracy: {:0.1f}%'.format(accuracy(test_predictions.eval(),\n",
    "                                                 test_labels)))"
   ]
  },
  {
   "cell_type": "markdown",
   "metadata": {
    "colab_type": "text",
    "id": "na8xX2yHZzNF"
   },
   "source": [
    "---\n",
    "Problem 2\n",
    "---------\n",
    "Let's demonstrate an extreme case of overfitting. Restrict your training data to just a few batches. What happens?\n",
    "\n",
    "---"
   ]
  },
  {
   "cell_type": "markdown",
   "metadata": {},
   "source": [
    "The following demonstrates overfitting in a simple logistic regression scenario"
   ]
  },
  {
   "cell_type": "code",
   "execution_count": 7,
   "metadata": {},
   "outputs": [
    {
     "name": "stdout",
     "output_type": "stream",
     "text": [
      "Initialized\n",
      "Step 0\n",
      "Training Loss: 17.4\n",
      "Training Accuracy: 7.0%\n",
      "Validation Accuracy: 13.1%\n",
      "\n",
      "Step 500\n",
      "Training Loss: 0.0\n",
      "Training Accuracy: 100.0%\n",
      "Validation Accuracy: 51.3%\n",
      "\n",
      "Step 1000\n",
      "Training Loss: 0.0\n",
      "Training Accuracy: 100.0%\n",
      "Validation Accuracy: 52.3%\n",
      "\n",
      "Step 1500\n",
      "Training Loss: 0.0\n",
      "Training Accuracy: 100.0%\n",
      "Validation Accuracy: 52.9%\n",
      "\n",
      "Step 2000\n",
      "Training Loss: 0.0\n",
      "Training Accuracy: 100.0%\n",
      "Validation Accuracy: 53.2%\n",
      "\n",
      "Step 2500\n",
      "Training Loss: 0.0\n",
      "Training Accuracy: 100.0%\n",
      "Validation Accuracy: 53.5%\n",
      "\n",
      "Step 3000\n",
      "Training Loss: 0.0\n",
      "Training Accuracy: 100.0%\n",
      "Validation Accuracy: 53.7%\n",
      "\n",
      "Test Accuracy: 59.8%\n"
     ]
    }
   ],
   "source": [
    "batch_size = 128\n",
    "\n",
    "graph = tf.Graph()\n",
    "\n",
    "with graph.as_default():\n",
    "\n",
    "    tf_train_dataset = tf.placeholder(tf.float32,\n",
    "                                      shape=(batch_size, image_size * image_size))\n",
    "    tf_train_labels = tf.placeholder(tf.float32, \n",
    "                                     shape=(batch_size, num_labels))\n",
    "\n",
    "    tf_valid_dataset = tf.constant(valid_dataset)\n",
    "    tf_test_dataset = tf.constant(test_dataset)\n",
    "    \n",
    "    weights = tf.Variable(tf.truncated_normal([image_size * image_size, num_labels]))\n",
    "    biases = tf.Variable(tf.zeros([num_labels]))\n",
    "    \n",
    "    logits = tf.matmul(tf_train_dataset, weights) + biases\n",
    "    loss = tf.reduce_mean(tf.nn.softmax_cross_entropy_with_logits(labels=tf_train_labels,\n",
    "                                                                 logits=logits))\n",
    "    \n",
    "    optimizer = tf.train.GradientDescentOptimizer(0.5).minimize(loss) \n",
    "    \n",
    "    train_predictions = tf.nn.softmax(logits)\n",
    "    valid_predictions = tf.nn.softmax(tf.matmul(tf_valid_dataset, weights) + biases)\n",
    "    test_predictions = tf.nn.softmax(tf.matmul(tf_test_dataset, weights) + biases)\n",
    "    \n",
    "    \n",
    "with tf.Session(graph=graph) as sess:\n",
    "    \n",
    "    tf.global_variables_initializer().run()\n",
    "    \n",
    "    print('Initialized')\n",
    "    \n",
    "    for i in range(3001):\n",
    "        \n",
    "        # restrict training data to a few batches\n",
    "        offset = np.random.choice([1, 2, 3, 4])\n",
    "        \n",
    "        X = train_dataset[offset:(offset + batch_size), :]\n",
    "        y = train_labels[offset:(offset + batch_size), :]\n",
    "        \n",
    "        feed_dict = {\n",
    "            tf_train_dataset: X,\n",
    "            tf_train_labels: y\n",
    "        }\n",
    "        \n",
    "        _, l, predictions = sess.run([optimizer, loss, train_predictions],\n",
    "                                    feed_dict=feed_dict)\n",
    "        \n",
    "        if i % 500 == 0:\n",
    "            \n",
    "            print('Step {:d}'.format(i))\n",
    "            print('Training Loss: {:0.1f}'.format(l))\n",
    "            print('Training Accuracy: {:0.1f}%'.format(accuracy(predictions, y)))\n",
    "            print('Validation Accuracy: {:0.1f}%'.format(accuracy(valid_predictions.eval(),\n",
    "                                                                valid_labels)))\n",
    "            print('')\n",
    "            \n",
    "    \n",
    "    print('Test Accuracy: {:0.1f}%'.format(accuracy(test_predictions.eval(),\n",
    "                                                 test_labels)))"
   ]
  },
  {
   "cell_type": "markdown",
   "metadata": {},
   "source": [
    "The test accuracy is not very good"
   ]
  },
  {
   "cell_type": "markdown",
   "metadata": {
    "colab_type": "text",
    "id": "ww3SCBUdlkRc"
   },
   "source": [
    "---\n",
    "Problem 3\n",
    "---------\n",
    "Introduce Dropout on the hidden layer of the neural network. Remember: Dropout should only be introduced during training, not evaluation, otherwise your evaluation results would be stochastic as well. TensorFlow provides `nn.dropout()` for that, but you have to make sure it's only inserted during training.\n",
    "\n",
    "What happens to our extreme overfitting case?\n",
    "\n",
    "---"
   ]
  },
  {
   "cell_type": "code",
   "execution_count": 8,
   "metadata": {},
   "outputs": [
    {
     "name": "stdout",
     "output_type": "stream",
     "text": [
      "Initialized\n",
      "Step 0\n",
      "Training Loss: 723.3\n",
      "Training Accuracy: 10.9%\n",
      "Validation Accuracy: 32.5%\n",
      "\n",
      "Step 500\n",
      "Training Loss: 203.0\n",
      "Training Accuracy: 69.5%\n",
      "Validation Accuracy: 81.2%\n",
      "\n",
      "Step 1000\n",
      "Training Loss: 118.3\n",
      "Training Accuracy: 77.3%\n",
      "Validation Accuracy: 80.6%\n",
      "\n",
      "Step 1500\n",
      "Training Loss: 69.0\n",
      "Training Accuracy: 72.7%\n",
      "Validation Accuracy: 82.5%\n",
      "\n",
      "Step 2000\n",
      "Training Loss: 40.9\n",
      "Training Accuracy: 82.8%\n",
      "Validation Accuracy: 83.3%\n",
      "\n",
      "Step 2500\n",
      "Training Loss: 24.8\n",
      "Training Accuracy: 79.7%\n",
      "Validation Accuracy: 84.4%\n",
      "\n",
      "Step 3000\n",
      "Training Loss: 15.4\n",
      "Training Accuracy: 80.5%\n",
      "Validation Accuracy: 85.2%\n",
      "\n",
      "Test Accuracy: 92.0%\n"
     ]
    }
   ],
   "source": [
    "batch_size = 128\n",
    "\n",
    "# number of neurons in the hidden layer\n",
    "num_hidden_layer = 1000\n",
    "\n",
    "\n",
    "graph = tf.Graph()\n",
    "\n",
    "with graph.as_default():\n",
    "\n",
    "    tf_train_dataset = tf.placeholder(tf.float32,\n",
    "                                      shape=(batch_size, image_size * image_size))\n",
    "    tf_train_labels = tf.placeholder(tf.float32, \n",
    "                                     shape=(batch_size, num_labels))\n",
    "\n",
    "    tf_valid_dataset = tf.constant(valid_dataset)\n",
    "    tf_test_dataset = tf.constant(test_dataset)\n",
    "    \n",
    "    weights1 = tf.Variable(tf.truncated_normal([image_size * image_size, num_hidden_layer]))\n",
    "    biases1 = tf.Variable(tf.zeros([num_hidden_layer]))\n",
    "    \n",
    "    weights2 = tf.Variable(tf.truncated_normal([num_hidden_layer, num_labels]))\n",
    "    biases2 = tf.Variable(tf.zeros([num_labels]))\n",
    "    \n",
    "    logits1 = tf.nn.relu(tf.matmul(tf_train_dataset, weights1) + biases1)\n",
    "    logits2 = tf.matmul(tf.nn.dropout(logits1, 0.5), weights2) + biases2\n",
    "\n",
    "    loss = tf.reduce_mean(tf.nn.softmax_cross_entropy_with_logits(labels=tf_train_labels,\n",
    "                                                                 logits=logits2) + \\\n",
    "                         0.001 * tf.nn.l2_loss(weights1) + 0.001 * tf.nn.l2_loss(weights2))\n",
    "    \n",
    "    optimizer = tf.train.GradientDescentOptimizer(0.5).minimize(loss) \n",
    "    \n",
    "    train_predictions = tf.nn.softmax(logits2)\n",
    "    \n",
    "    # valid_predictions\n",
    "    logits1 = tf.nn.relu(tf.matmul(tf_valid_dataset, weights1) + biases1)\n",
    "    logits2 = tf.matmul(logits1, weights2) + biases2\n",
    "    valid_predictions = tf.nn.softmax(logits2)\n",
    "    \n",
    "    # test_predictions\n",
    "    logits1 = tf.nn.relu(tf.matmul(tf_test_dataset, weights1) + biases1)\n",
    "    logits2 = tf.matmul(logits1, weights2) + biases2\n",
    "    test_predictions = tf.nn.softmax(logits2)\n",
    "    \n",
    "    \n",
    "with tf.Session(graph=graph) as sess:\n",
    "    \n",
    "    tf.global_variables_initializer().run()\n",
    "    \n",
    "    print('Initialized')\n",
    "    \n",
    "    for i in range(3001):\n",
    "        \n",
    "        offset = (i * batch_size) % (train_labels.shape[0] - batch_size)\n",
    "        \n",
    "        X = train_dataset[offset:(offset + batch_size), :]\n",
    "        y = train_labels[offset:(offset + batch_size), :]\n",
    "        \n",
    "        feed_dict = {\n",
    "            tf_train_dataset: X,\n",
    "            tf_train_labels: y\n",
    "        }\n",
    "        \n",
    "        _, l, predictions = sess.run([optimizer, loss, train_predictions],\n",
    "                                    feed_dict=feed_dict)\n",
    "        \n",
    "        if i % 500 == 0:\n",
    "            \n",
    "            print('Step {:d}'.format(i))\n",
    "            print('Training Loss: {:0.1f}'.format(l))\n",
    "            print('Training Accuracy: {:0.1f}%'.format(accuracy(predictions, y)))\n",
    "            print('Validation Accuracy: {:0.1f}%'.format(accuracy(valid_predictions.eval(),\n",
    "                                                                valid_labels)))\n",
    "            print('')\n",
    "            \n",
    "    \n",
    "    print('Test Accuracy: {:0.1f}%'.format(accuracy(test_predictions.eval(),\n",
    "                                                 test_labels)))"
   ]
  },
  {
   "cell_type": "markdown",
   "metadata": {
    "colab_type": "text",
    "id": "-b1hTz3VWZjw"
   },
   "source": [
    "---\n",
    "Problem 4\n",
    "---------\n",
    "\n",
    "Try to get the best performance you can using a multi-layer model! The best reported test accuracy using a deep network is [97.1%](http://yaroslavvb.blogspot.com/2011/09/notmnist-dataset.html?showComment=1391023266211#c8758720086795711595).\n",
    "\n",
    "One avenue you can explore is to add multiple layers.\n",
    "\n",
    "Another one is to use learning rate decay:\n",
    "\n",
    "    global_step = tf.Variable(0)  # count the number of steps taken.\n",
    "    learning_rate = tf.train.exponential_decay(0.5, global_step, ...)\n",
    "    optimizer = tf.train.GradientDescentOptimizer(learning_rate).minimize(loss, global_step=global_step)\n",
    " \n",
    " ---\n"
   ]
  },
  {
   "cell_type": "code",
   "execution_count": 9,
   "metadata": {},
   "outputs": [
    {
     "name": "stdout",
     "output_type": "stream",
     "text": [
      "Initialized\n",
      "Step 0\n",
      "Training Loss: 2.3\n",
      "Training Accuracy: 16.4%\n",
      "Validation Accuracy: 10.4%\n",
      "\n",
      "Step 500\n",
      "Training Loss: 0.5\n",
      "Training Accuracy: 81.2%\n",
      "Validation Accuracy: 84.9%\n",
      "\n",
      "Step 1000\n",
      "Training Loss: 0.4\n",
      "Training Accuracy: 89.1%\n",
      "Validation Accuracy: 86.7%\n",
      "\n",
      "Step 1500\n",
      "Training Loss: 0.4\n",
      "Training Accuracy: 87.5%\n",
      "Validation Accuracy: 87.2%\n",
      "\n",
      "Step 2000\n",
      "Training Loss: 0.4\n",
      "Training Accuracy: 88.3%\n",
      "Validation Accuracy: 88.4%\n",
      "\n",
      "Step 2500\n",
      "Training Loss: 0.4\n",
      "Training Accuracy: 88.3%\n",
      "Validation Accuracy: 88.8%\n",
      "\n",
      "Step 3000\n",
      "Training Loss: 0.4\n",
      "Training Accuracy: 85.2%\n",
      "Validation Accuracy: 89.3%\n",
      "\n",
      "Test Accuracy: 94.7%\n"
     ]
    }
   ],
   "source": [
    "batch_size = 128\n",
    "\n",
    "# number of neurons in the hidden layers\n",
    "num_hidden_layer1 = 1000\n",
    "num_hidden_layer2 = 500\n",
    "num_hidden_layer3 = 250\n",
    "\n",
    "\n",
    "graph = tf.Graph()\n",
    "\n",
    "with graph.as_default():\n",
    "\n",
    "    tf_train_dataset = tf.placeholder(tf.float32,\n",
    "                                      shape=(batch_size, image_size * image_size))\n",
    "    tf_train_labels = tf.placeholder(tf.float32, \n",
    "                                     shape=(batch_size, num_labels))\n",
    "\n",
    "    tf_valid_dataset = tf.constant(valid_dataset)\n",
    "    tf_test_dataset = tf.constant(test_dataset)\n",
    "    \n",
    "    global_step = tf.Variable(0)\n",
    "\n",
    "    \n",
    "    weights1 = tf.Variable(tf.truncated_normal([image_size * image_size, num_hidden_layer1],\n",
    "                                              stddev=np.sqrt(2.0 / (image_size * image_size))))\n",
    "    biases1 = tf.Variable(tf.zeros([num_hidden_layer1]))\n",
    "    \n",
    "    weights2 = tf.Variable(tf.truncated_normal([num_hidden_layer1, num_hidden_layer2],\n",
    "                                              stddev=np.sqrt(2.0 / num_hidden_layer1)))\n",
    "    biases2 = tf.Variable(tf.zeros([num_hidden_layer2]))\n",
    "    \n",
    "    weights3 = tf.Variable(tf.truncated_normal([num_hidden_layer2, num_hidden_layer3],\n",
    "                                              stddev=np.sqrt(2.0 / num_hidden_layer2)))\n",
    "    biases3 = tf.Variable(tf.zeros([num_hidden_layer3]))\n",
    "    \n",
    "    weights4 = tf.Variable(tf.truncated_normal([num_hidden_layer3, num_labels],\n",
    "                                              stddev=np.sqrt(2.0 / num_hidden_layer3)))\n",
    "    biases4 = tf.Variable(tf.zeros([num_labels]))\n",
    "    \n",
    "    logits1 = tf.nn.relu(tf.matmul(tf.nn.dropout(tf_train_dataset, 0.8), weights1) + biases1)\n",
    "    logits2 = tf.nn.relu(tf.matmul(tf.nn.dropout(logits1, 0.8), weights2) + biases2)\n",
    "    logits3 = tf.nn.relu(tf.matmul(tf.nn.dropout(logits2, 0.8), weights3) + biases3)\n",
    "    logits4 = tf.matmul(logits3, weights4) + biases4\n",
    "\n",
    "    loss = tf.reduce_mean(tf.nn.softmax_cross_entropy_with_logits(labels=tf_train_labels, logits=logits4))\n",
    "    \n",
    "    learning_rate = tf.train.exponential_decay(0.5, global_step, 2000, 0.3, staircase=True)\n",
    "    optimizer = tf.train.GradientDescentOptimizer(learning_rate).minimize(loss, global_step=global_step)\n",
    "    \n",
    "    train_predictions = tf.nn.softmax(logits4)\n",
    "    \n",
    "    # valid_predictions\n",
    "    logits1_pred = tf.nn.relu(tf.matmul(tf_valid_dataset, weights1) + biases1)\n",
    "    logits2_pred = tf.nn.relu(tf.matmul(logits1_pred, weights2) + biases2)\n",
    "    logits3_pred = tf.nn.relu(tf.matmul(logits2_pred, weights3) + biases3)\n",
    "    logits4_pred = tf.matmul(logits3_pred, weights4) + biases4\n",
    "    valid_predictions = tf.nn.softmax(logits4_pred)\n",
    "    \n",
    "    # test_predictions\n",
    "    logits1 = tf.nn.relu(tf.matmul(tf_test_dataset, weights1) + biases1)\n",
    "    logits2 = tf.nn.relu(tf.matmul(logits1, weights2) + biases2)\n",
    "    logits3 = tf.nn.relu(tf.matmul(logits2, weights3) + biases3)\n",
    "    logits4 = tf.matmul(logits3, weights4) + biases4\n",
    "    test_predictions = tf.nn.softmax(logits4)\n",
    "    \n",
    "    \n",
    "with tf.Session(graph=graph) as sess:\n",
    "    \n",
    "    tf.global_variables_initializer().run()\n",
    "    \n",
    "    print('Initialized')\n",
    "    \n",
    "    for i in range(3001):\n",
    "        \n",
    "        offset = (i * batch_size) % (train_labels.shape[0] - batch_size)\n",
    "        \n",
    "        X = train_dataset[offset:(offset + batch_size), :]\n",
    "        y = train_labels[offset:(offset + batch_size), :]\n",
    "        \n",
    "        feed_dict = {\n",
    "            tf_train_dataset: X,\n",
    "            tf_train_labels: y\n",
    "        }\n",
    "        \n",
    "        _, l, predictions = sess.run([optimizer, loss, train_predictions],\n",
    "                                    feed_dict=feed_dict)\n",
    "        \n",
    "        if i % 500 == 0:\n",
    "            \n",
    "            print('Step {:d}'.format(i))\n",
    "            print('Training Loss: {:0.1f}'.format(l))\n",
    "            print('Training Accuracy: {:0.1f}%'.format(accuracy(predictions, y)))\n",
    "            print('Validation Accuracy: {:0.1f}%'.format(accuracy(valid_predictions.eval(),\n",
    "                                                                valid_labels)))\n",
    "            print('')\n",
    "            \n",
    "    \n",
    "    print('Test Accuracy: {:0.1f}%'.format(accuracy(test_predictions.eval(),\n",
    "                                                 test_labels)))"
   ]
  }
 ],
 "metadata": {
  "colab": {
   "default_view": {},
   "name": "3_regularization.ipynb",
   "provenance": [],
   "version": "0.3.2",
   "views": {}
  },
  "kernelspec": {
   "display_name": "Python 3",
   "language": "python",
   "name": "python3"
  },
  "language_info": {
   "codemirror_mode": {
    "name": "ipython",
    "version": 3
   },
   "file_extension": ".py",
   "mimetype": "text/x-python",
   "name": "python",
   "nbconvert_exporter": "python",
   "pygments_lexer": "ipython3",
   "version": "3.6.2"
  }
 },
 "nbformat": 4,
 "nbformat_minor": 1
}
